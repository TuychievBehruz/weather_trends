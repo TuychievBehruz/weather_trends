{
 "cells": [
  {
   "cell_type": "markdown",
   "metadata": {},
   "source": [
    "# Explore Weather Trends (Project I)"
   ]
  },
  {
   "cell_type": "markdown",
   "metadata": {},
   "source": [
    "### Step One:"
   ]
  },
  {
   "cell_type": "markdown",
   "metadata": {},
   "source": [
    "1. Create a directory named **project_1_weather_trends** on the local machine and initialize already-existing conda environment using a following command:\n",
    "\n",
    "```bash\n",
    "source activate da_nanodegree\n",
    "```"
   ]
  },
  {
   "cell_type": "markdown",
   "metadata": {},
   "source": [
    "2. Initialize a `git` repository:\n",
    "\n",
    "```bash\n",
    "git init\n",
    "```"
   ]
  },
  {
   "cell_type": "markdown",
   "metadata": {},
   "source": [
    "3. Track all the files and make the first commit. (Note: All the next steps in the notebook correspond with a new commit in the repo)"
   ]
  },
  {
   "cell_type": "markdown",
   "metadata": {},
   "source": [
    "### Step Two:"
   ]
  },
  {
   "cell_type": "markdown",
   "metadata": {},
   "source": [
    "1. From the workspace provided in the project description, extract data necessary for the expected city using a following **SQL** query:"
   ]
  },
  {
   "cell_type": "markdown",
   "metadata": {},
   "source": [
    "```SQL\n",
    "WITH cte AS (\n",
    "  SELECT year, city AS city_name, \n",
    "         avg_temp AS tashkent_avg\n",
    "    FROM city_data\n",
    "   WHERE city = 'Tashkent'\n",
    ")\n",
    "SELECT cte.year AS year, \n",
    "       gd.avg_temp AS global_avg_temp,\n",
    "       cte.city_name,\n",
    "       cte.tashkent_avg\n",
    "  FROM cte\n",
    "  JOIN global_data gd\n",
    "    ON cte.year = gd.year;\n",
    "```"
   ]
  },
  {
   "cell_type": "markdown",
   "metadata": {},
   "source": [
    "2. Download the resulting table as a `csv` file and move it to the project directory. "
   ]
  },
  {
   "cell_type": "markdown",
   "metadata": {},
   "source": [
    "### Step Three:"
   ]
  },
  {
   "cell_type": "code",
   "execution_count": null,
   "metadata": {},
   "outputs": [],
   "source": []
  }
 ],
 "metadata": {
  "kernelspec": {
   "display_name": "Python 3",
   "language": "python",
   "name": "python3"
  },
  "language_info": {
   "codemirror_mode": {
    "name": "ipython",
    "version": 3
   },
   "file_extension": ".py",
   "mimetype": "text/x-python",
   "name": "python",
   "nbconvert_exporter": "python",
   "pygments_lexer": "ipython3",
   "version": "3.7.6"
  }
 },
 "nbformat": 4,
 "nbformat_minor": 4
}
