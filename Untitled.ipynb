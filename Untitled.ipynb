{
 "cells": [
  {
   "cell_type": "markdown",
   "metadata": {},
   "source": [
    "# Explore Weather Trends (Project I)"
   ]
  },
  {
   "cell_type": "markdown",
   "metadata": {},
   "source": [
    "### Step One:"
   ]
  },
  {
   "cell_type": "markdown",
   "metadata": {},
   "source": [
    "1. Create a directory named **project_1_weather_trends** on the local machine and initialize already-existing conda environment using a following command:\n",
    "\n",
    "```bash\n",
    "source activate da_nanodegree\n",
    "```\n",
    "2. Initialize a **`git`** repository:\n",
    "\n",
    "```bash\n",
    "git init\n",
    "```\n",
    "3. Track all the files and make the first commit. (Note: All the next steps in the notebook correspond with a new commit in the repo)"
   ]
  },
  {
   "cell_type": "markdown",
   "metadata": {},
   "source": [
    "### Step Two:"
   ]
  },
  {
   "cell_type": "markdown",
   "metadata": {},
   "source": [
    "1. From the workspace provided in the project description, extract data necessary for the expected city using a following **SQL** query:\n",
    "```SQL\n",
    "WITH cte AS (\n",
    "  SELECT year, city AS city_name, \n",
    "         avg_temp AS tashkent_avg\n",
    "    FROM city_data\n",
    "   WHERE city = 'Tashkent'\n",
    ")\n",
    "SELECT cte.year AS year, \n",
    "       gd.avg_temp AS global_avg_temp,\n",
    "       cte.city_name,\n",
    "       cte.tashkent_avg\n",
    "  FROM cte\n",
    "  JOIN global_data gd\n",
    "    ON cte.year = gd.year;\n",
    "```\n",
    "2. Download the resulting table as a **`csv`** file and move it to the project directory."
   ]
  },
  {
   "cell_type": "markdown",
   "metadata": {},
   "source": [
    "### Step Three:"
   ]
  },
  {
   "cell_type": "markdown",
   "metadata": {},
   "source": [
    "1. Open the **`csv`** file in an **`Excel`** speadsheet.\n",
    "2. Create 2 new columns named '5-Year MA Global', '5-Year MA Tashkent'.\n",
    "3. Move to the 6th row of the '5-Year MA Global' and input this function: **`=AVERAGE(B2:B6)`**\n",
    "4. Write the above function for necessary cells using corresponding values for the rest of the new columns.\n",
    "5. Create a dashboard containing a line chart for 5-year moving average in **`Tableau`** software."
   ]
  },
  {
   "cell_type": "markdown",
   "metadata": {},
   "source": [
    "### Final Step:"
   ]
  },
  {
   "cell_type": "markdown",
   "metadata": {},
   "source": [
    "1. Add a **`requirements.txt`** file to include all the packages for the conda environment.\n",
    "2. Add a visual to represent the line chart in the Tableau Dashboard.\n",
    "3. Create a remote repository and push the project."
   ]
  },
  {
   "cell_type": "markdown",
   "metadata": {},
   "source": [
    "## Summary:"
   ]
  },
  {
   "cell_type": "markdown",
   "metadata": {},
   "source": [
    "As can be seen from the line chart, there are some obvious differences between the temperatures of the Globe and Tashkent.\n",
    "\n",
    "First of all, it is clear that the city in question had been generally hotter than the global average temperature. That is after comparing the two trends' every 5-year moving averages. Secondly, while there are records of wild fluctuations in Tashkent mean temperature, the global temperature trend witnessed a calmer growth.\n",
    "\n",
    "Thirdly, it can be guessed that Tashkent has also been affected by the [mid-20th century cooling](https://www.newscientist.com/article/dn11639-climate-myths-the-cooling-after-1940-shows-co2-does-not-cause-warming/) as it had seen its lowest and highest spikes during 1930s and 50s. Finally, both trends indicate that global temperatures, though minimal, have been increasing steadily."
   ]
  }
 ],
 "metadata": {
  "kernelspec": {
   "display_name": "Python 3",
   "language": "python",
   "name": "python3"
  },
  "language_info": {
   "codemirror_mode": {
    "name": "ipython",
    "version": 3
   },
   "file_extension": ".py",
   "mimetype": "text/x-python",
   "name": "python",
   "nbconvert_exporter": "python",
   "pygments_lexer": "ipython3",
   "version": "3.7.6"
  }
 },
 "nbformat": 4,
 "nbformat_minor": 4
}
